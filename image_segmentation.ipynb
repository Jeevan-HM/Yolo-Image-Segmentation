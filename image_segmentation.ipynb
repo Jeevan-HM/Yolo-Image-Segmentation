{
 "cells": [
  {
   "cell_type": "markdown",
   "metadata": {},
   "source": [
    "# YoLo for detecting House, Lawn, Driveway, etc..."
   ]
  },
  {
   "cell_type": "markdown",
   "metadata": {},
   "source": [
    "## Import Necessary Libraries"
   ]
  },
  {
   "cell_type": "code",
   "execution_count": 1,
   "metadata": {},
   "outputs": [],
   "source": [
    "from ultralytics import YOLO\n",
    "import cv2\n",
    "import os"
   ]
  },
  {
   "cell_type": "markdown",
   "metadata": {},
   "source": [
    "## Load the trained YoLo Model weights"
   ]
  },
  {
   "cell_type": "code",
   "execution_count": 2,
   "metadata": {},
   "outputs": [],
   "source": [
    "model = YOLO(\"model/best.pt\")"
   ]
  },
  {
   "cell_type": "markdown",
   "metadata": {},
   "source": [
    "## Select the folder where input and output images are stored"
   ]
  },
  {
   "cell_type": "code",
   "execution_count": 3,
   "metadata": {},
   "outputs": [],
   "source": [
    "input_folder = \"input_images\"\n",
    "output_folder = \"Results\""
   ]
  },
  {
   "cell_type": "markdown",
   "metadata": {},
   "source": [
    "## Load the input images and perform detection"
   ]
  },
  {
   "cell_type": "code",
   "execution_count": 4,
   "metadata": {},
   "outputs": [
    {
     "name": "stdout",
     "output_type": "stream",
     "text": [
      "WARNING ⚠️ 'boxes' is deprecated and will be removed in 'ultralytics 8.299999999999999' in the future. Please use 'show_boxes' instead.\n",
      "\n",
      "0: 672x672 1 Driveway, 1 Extra Driveway, 2 Extra Lawns, 1 House, 10 Others, 277.2ms\n",
      "Speed: 5.0ms preprocess, 277.2ms inference, 16.3ms postprocess per image at shape (1, 3, 672, 672)\n",
      "Results saved to \u001b[1mResults/test_image_9\u001b[0m\n",
      "WARNING ⚠️ 'boxes' is deprecated and will be removed in 'ultralytics 8.299999999999999' in the future. Please use 'show_boxes' instead.\n",
      "\n",
      "0: 672x672 1 Driveway, 1 Extra Driveway, 4 Extra Lawns, 1 Extra Sidewalk, 1 House, 5 Others, 239.4ms\n",
      "Speed: 2.4ms preprocess, 239.4ms inference, 6.3ms postprocess per image at shape (1, 3, 672, 672)\n",
      "Results saved to \u001b[1mResults/test_image_8\u001b[0m\n",
      "WARNING ⚠️ 'source' is missing. Using 'source=/Users/jeevan/miniconda3/envs/conda_env/lib/python3.11/site-packages/ultralytics/assets'.\n",
      "WARNING ⚠️ 'boxes' is deprecated and will be removed in 'ultralytics 8.299999999999999' in the future. Please use 'show_boxes' instead.\n",
      "\n",
      "image 1/2 /Users/jeevan/miniconda3/envs/conda_env/lib/python3.11/site-packages/ultralytics/assets/bus.jpg: 672x512 1 Driveway, 146.5ms\n",
      "image 2/2 /Users/jeevan/miniconda3/envs/conda_env/lib/python3.11/site-packages/ultralytics/assets/zidane.jpg: 384x672 1 Other, 111.0ms\n",
      "Speed: 1.4ms preprocess, 128.8ms inference, 0.9ms postprocess per image at shape (1, 3, 384, 672)\n",
      "Results saved to \u001b[1mResults/.DS_Store\u001b[0m\n",
      "WARNING ⚠️ 'boxes' is deprecated and will be removed in 'ultralytics 8.299999999999999' in the future. Please use 'show_boxes' instead.\n",
      "\n",
      "0: 672x672 1 Driveway, 1 Extra Driveway, 4 Extra Lawns, 2 Extra Sidewalks, 1 House, 3 Others, 1 Sidewalk, 220.3ms\n",
      "Speed: 2.0ms preprocess, 220.3ms inference, 5.3ms postprocess per image at shape (1, 3, 672, 672)\n",
      "Results saved to \u001b[1mResults/test_image_10\u001b[0m\n",
      "WARNING ⚠️ 'boxes' is deprecated and will be removed in 'ultralytics 8.299999999999999' in the future. Please use 'show_boxes' instead.\n",
      "\n",
      "0: 672x672 1 Driveway, 1 Extra Driveway, 2 Extra Lawns, 1 House, 1 Other, 2 Sidewalks, 198.9ms\n",
      "Speed: 2.0ms preprocess, 198.9ms inference, 4.2ms postprocess per image at shape (1, 3, 672, 672)\n",
      "Results saved to \u001b[1mResults/test_image_11\u001b[0m\n",
      "WARNING ⚠️ 'boxes' is deprecated and will be removed in 'ultralytics 8.299999999999999' in the future. Please use 'show_boxes' instead.\n",
      "\n",
      "0: 672x672 1 Driveway, 1 Extra Driveway, 2 Extra Lawns, 1 House, 4 Sidewalks, 211.8ms\n",
      "Speed: 2.4ms preprocess, 211.8ms inference, 4.5ms postprocess per image at shape (1, 3, 672, 672)\n",
      "Results saved to \u001b[1mResults/test_image_3\u001b[0m\n",
      "WARNING ⚠️ 'boxes' is deprecated and will be removed in 'ultralytics 8.299999999999999' in the future. Please use 'show_boxes' instead.\n",
      "\n",
      "0: 672x672 1 Driveway, 1 Extra Driveway, 4 Extra Lawns, 2 Extra Sidewalks, 1 House, 1 Other, 195.4ms\n",
      "Speed: 1.8ms preprocess, 195.4ms inference, 3.8ms postprocess per image at shape (1, 3, 672, 672)\n",
      "Results saved to \u001b[1mResults/test_image_2\u001b[0m\n",
      "WARNING ⚠️ 'boxes' is deprecated and will be removed in 'ultralytics 8.299999999999999' in the future. Please use 'show_boxes' instead.\n",
      "\n",
      "0: 672x672 1 Driveway, 1 Extra Driveway, 4 Extra Lawns, 2 Extra Sidewalks, 1 House, 6 Others, 200.4ms\n",
      "Speed: 2.0ms preprocess, 200.4ms inference, 6.0ms postprocess per image at shape (1, 3, 672, 672)\n",
      "Results saved to \u001b[1mResults/test_image_1\u001b[0m\n",
      "WARNING ⚠️ 'boxes' is deprecated and will be removed in 'ultralytics 8.299999999999999' in the future. Please use 'show_boxes' instead.\n",
      "\n",
      "0: 672x672 2 Driveways, 1 Extra Driveway, 1 Extra Lawn, 1 House, 2 Others, 3 Sidewalks, 196.3ms\n",
      "Speed: 1.7ms preprocess, 196.3ms inference, 3.8ms postprocess per image at shape (1, 3, 672, 672)\n",
      "Results saved to \u001b[1mResults/test_image_5\u001b[0m\n",
      "WARNING ⚠️ 'boxes' is deprecated and will be removed in 'ultralytics 8.299999999999999' in the future. Please use 'show_boxes' instead.\n",
      "\n",
      "0: 672x672 1 Driveway, 2 Extra Driveways, 4 Extra Lawns, 2 Extra Sidewalks, 1 House, 2 Sidewalks, 207.6ms\n",
      "Speed: 1.7ms preprocess, 207.6ms inference, 4.5ms postprocess per image at shape (1, 3, 672, 672)\n",
      "Results saved to \u001b[1mResults/test_image_4\u001b[0m\n",
      "WARNING ⚠️ 'boxes' is deprecated and will be removed in 'ultralytics 8.299999999999999' in the future. Please use 'show_boxes' instead.\n",
      "\n",
      "0: 672x672 1 Driveway, 1 Extra Driveway, 2 Extra Lawns, 1 House, 194.8ms\n",
      "Speed: 2.0ms preprocess, 194.8ms inference, 2.5ms postprocess per image at shape (1, 3, 672, 672)\n",
      "Results saved to \u001b[1mResults/test_image_6\u001b[0m\n",
      "WARNING ⚠️ 'boxes' is deprecated and will be removed in 'ultralytics 8.299999999999999' in the future. Please use 'show_boxes' instead.\n",
      "\n",
      "0: 672x672 1 Driveway, 1 Extra Driveway, 2 Extra Lawns, 2 Extra Sidewalks, 1 House, 2 Others, 210.3ms\n",
      "Speed: 1.8ms preprocess, 210.3ms inference, 5.8ms postprocess per image at shape (1, 3, 672, 672)\n",
      "Results saved to \u001b[1mResults/test_image_7\u001b[0m\n"
     ]
    }
   ],
   "source": [
    "for filename in os.listdir(input_folder):\n",
    "    # Construct the full path to the input image\n",
    "    input_image_path = os.path.join(input_folder, filename)\n",
    "    \n",
    "    # Read the image using OpenCV\n",
    "    image = cv2.imread(input_image_path)\n",
    "    \n",
    "    # Perform detection using the model\n",
    "    results_image = model(\n",
    "        image,\n",
    "        save=True,\n",
    "        project=output_folder,\n",
    "        name=os.path.splitext(filename)[0],  # Use the filename as the result name\n",
    "        boxes=False,\n",
    "        show_labels=False,\n",
    "    )"
   ]
  },
  {
   "cell_type": "markdown",
   "metadata": {},
   "source": [
    "## View the Results folder for viewing the detected results."
   ]
  }
 ],
 "metadata": {
  "kernelspec": {
   "display_name": "conda_env",
   "language": "python",
   "name": "python3"
  },
  "language_info": {
   "codemirror_mode": {
    "name": "ipython",
    "version": 3
   },
   "file_extension": ".py",
   "mimetype": "text/x-python",
   "name": "python",
   "nbconvert_exporter": "python",
   "pygments_lexer": "ipython3",
   "version": "3.11.7"
  }
 },
 "nbformat": 4,
 "nbformat_minor": 2
}
